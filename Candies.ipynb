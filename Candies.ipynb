{
 "cells": [
  {
   "cell_type": "code",
   "execution_count": null,
   "id": "5135084a",
   "metadata": {},
   "outputs": [],
   "source": [
    "\n",
    "    x=int(input())\n",
    "    list = input().split()\n",
    "    list = [eval(i) for i in list]\n",
    "    yas = 0\n",
    "    for i in list:\n",
    "        if(list.count(i)>2):\n",
    "            yas=1\n",
    "            print(\"No\")\n",
    "            break\n",
    "    if(yas==0):\n",
    "        print(\"yes\")\n",
    "        \n",
    "            "
   ]
  }
 ],
 "metadata": {
  "kernelspec": {
   "display_name": "Python 3",
   "language": "python",
   "name": "python3"
  },
  "language_info": {
   "codemirror_mode": {
    "name": "ipython",
    "version": 3
   },
   "file_extension": ".py",
   "mimetype": "text/x-python",
   "name": "python",
   "nbconvert_exporter": "python",
   "pygments_lexer": "ipython3",
   "version": "3.8.8"
  }
 },
 "nbformat": 4,
 "nbformat_minor": 5
}

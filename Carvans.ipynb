{
 "cells": [
  {
   "cell_type": "code",
   "execution_count": 4,
   "id": "633b6ede",
   "metadata": {},
   "outputs": [
    {
     "name": "stdout",
     "output_type": "stream",
     "text": [
      "5\n",
      "4 5 1 2 3\n",
      "[4, 5, 1, 2, 3]\n",
      "2\n"
     ]
    }
   ],
   "source": [
    "x=int(input())\n",
    "list = input().split()\n",
    "list = [eval(i) for i in list]\n",
    "yas = list[0]\n",
    "count = 1;\n",
    "for i in range(1,len(list)):\n",
    "    if(list[i]<yas):\n",
    "        count+=1;\n",
    "        yas = list[i]\n",
    "print(count)\n",
    "        "
   ]
  },
  {
   "cell_type": "code",
   "execution_count": null,
   "id": "bb0dff52",
   "metadata": {},
   "outputs": [],
   "source": []
  }
 ],
 "metadata": {
  "kernelspec": {
   "display_name": "Python 3",
   "language": "python",
   "name": "python3"
  },
  "language_info": {
   "codemirror_mode": {
    "name": "ipython",
    "version": 3
   },
   "file_extension": ".py",
   "mimetype": "text/x-python",
   "name": "python",
   "nbconvert_exporter": "python",
   "pygments_lexer": "ipython3",
   "version": "3.8.8"
  }
 },
 "nbformat": 4,
 "nbformat_minor": 5
}

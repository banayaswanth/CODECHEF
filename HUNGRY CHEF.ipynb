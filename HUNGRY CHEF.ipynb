{
 "cells": [
  {
   "cell_type": "code",
   "execution_count": null,
   "id": "23559dc1",
   "metadata": {},
   "outputs": [],
   "source": [
    "# cook your dish here\n",
    "for i in range(int(input())):\n",
    "    n,p,q,a = map(int,input().split())\n",
    "    pre = q\n",
    "    nor  = 0\n",
    "    while(nor<=q):\n",
    "        if((pre*p + nor*n)<=a):\n",
    "            break\n",
    "        else:\n",
    "            pre =  pre-1\n",
    "            nor+=1\n",
    "    if(nor>q):\n",
    "        print(-1)\n",
    "    else:\n",
    "        print(nor,\" \",pre)"
   ]
  }
 ],
 "metadata": {
  "kernelspec": {
   "display_name": "Python 3",
   "language": "python",
   "name": "python3"
  },
  "language_info": {
   "codemirror_mode": {
    "name": "ipython",
    "version": 3
   },
   "file_extension": ".py",
   "mimetype": "text/x-python",
   "name": "python",
   "nbconvert_exporter": "python",
   "pygments_lexer": "ipython3",
   "version": "3.8.8"
  }
 },
 "nbformat": 4,
 "nbformat_minor": 5
}

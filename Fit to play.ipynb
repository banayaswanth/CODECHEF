{
 "cells": [
  {
   "cell_type": "code",
   "execution_count": 4,
   "id": "1891cefc",
   "metadata": {},
   "outputs": [
    {
     "name": "stdout",
     "output_type": "stream",
     "text": [
      "5\n",
      "4 3 2 2 3\n",
      "1\n"
     ]
    }
   ],
   "source": [
    "N = int(input())\n",
    "list = input().split()\n",
    "list = [eval(i) for i in list]\n",
    "dif = 0\n",
    "small = list[0]\n",
    "for i in  range(len(list)-1):\n",
    "    if(list[i+1]<list[i]):\n",
    "        small = min(small,list[i+1])\n",
    "    else:\n",
    "        dif = max(dif,list[i+1]-small)\n",
    "if(dif>=1):\n",
    "    print(dif)\n",
    "else:\n",
    "    print(\"UNFIT\")\n",
    "        "
   ]
  },
  {
   "cell_type": "code",
   "execution_count": null,
   "id": "648825af",
   "metadata": {},
   "outputs": [],
   "source": []
  }
 ],
 "metadata": {
  "kernelspec": {
   "display_name": "Python 3",
   "language": "python",
   "name": "python3"
  },
  "language_info": {
   "codemirror_mode": {
    "name": "ipython",
    "version": 3
   },
   "file_extension": ".py",
   "mimetype": "text/x-python",
   "name": "python",
   "nbconvert_exporter": "python",
   "pygments_lexer": "ipython3",
   "version": "3.8.8"
  }
 },
 "nbformat": 4,
 "nbformat_minor": 5
}
